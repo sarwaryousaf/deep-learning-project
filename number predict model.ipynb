{
 "cells": [
  {
   "cell_type": "code",
   "execution_count": 1,
   "id": "a74e9eb1",
   "metadata": {},
   "outputs": [],
   "source": [
    "from tensorflow.keras.datasets import mnist\n",
    "(train_images, train_labels), (test_images, test_labels) = mnist.load_data()"
   ]
  },
  {
   "cell_type": "code",
   "execution_count": 7,
   "id": "0de04fdb-109c-4ae4-aa8f-12065501c7a3",
   "metadata": {},
   "outputs": [],
   "source": [
    "from tensorflow import keras \n",
    "from tensorflow.keras import layers\n",
    "model = keras.Sequential([\n",
    " layers.Dense(512, activation=\"relu\"),\n",
    " layers.Dense(10, activation=\"softmax\")\n",
    "])"
   ]
  },
  {
   "cell_type": "code",
   "execution_count": 8,
   "id": "31c8056d-3891-4ca4-8f2e-4fa771caeca5",
   "metadata": {},
   "outputs": [],
   "source": [
    "model.compile(optimizer=\"rmsprop\",\n",
    " loss=\"sparse_categorical_crossentropy\",\n",
    " metrics=[\"accuracy\"])"
   ]
  },
  {
   "cell_type": "code",
   "execution_count": 9,
   "id": "590408e7-384e-4706-a20d-abe0679e842b",
   "metadata": {},
   "outputs": [],
   "source": [
    "train_images = train_images.reshape((60000, 28 * 28))\n",
    "train_images = train_images.astype(\"float32\") / 255\n",
    "test_images = test_images.reshape((10000, 28 * 28))\n",
    "test_images = test_images.astype(\"float32\") / 255"
   ]
  },
  {
   "cell_type": "code",
   "execution_count": 10,
   "id": "87f91098-0d6e-4018-a2e8-55e76ee0459c",
   "metadata": {},
   "outputs": [
    {
     "name": "stdout",
     "output_type": "stream",
     "text": [
      "Epoch 1/5\n",
      "\u001b[1m469/469\u001b[0m \u001b[32m━━━━━━━━━━━━━━━━━━━━\u001b[0m\u001b[37m\u001b[0m \u001b[1m18s\u001b[0m 33ms/step - accuracy: 0.8731 - loss: 0.4405\n",
      "Epoch 2/5\n",
      "\u001b[1m469/469\u001b[0m \u001b[32m━━━━━━━━━━━━━━━━━━━━\u001b[0m\u001b[37m\u001b[0m \u001b[1m16s\u001b[0m 35ms/step - accuracy: 0.9652 - loss: 0.1184\n",
      "Epoch 3/5\n",
      "\u001b[1m469/469\u001b[0m \u001b[32m━━━━━━━━━━━━━━━━━━━━\u001b[0m\u001b[37m\u001b[0m \u001b[1m25s\u001b[0m 43ms/step - accuracy: 0.9784 - loss: 0.0710\n",
      "Epoch 4/5\n",
      "\u001b[1m469/469\u001b[0m \u001b[32m━━━━━━━━━━━━━━━━━━━━\u001b[0m\u001b[37m\u001b[0m \u001b[1m21s\u001b[0m 44ms/step - accuracy: 0.9842 - loss: 0.0531\n",
      "Epoch 5/5\n",
      "\u001b[1m469/469\u001b[0m \u001b[32m━━━━━━━━━━━━━━━━━━━━\u001b[0m\u001b[37m\u001b[0m \u001b[1m19s\u001b[0m 39ms/step - accuracy: 0.9893 - loss: 0.0379\n"
     ]
    },
    {
     "data": {
      "text/plain": [
       "<keras.src.callbacks.history.History at 0x24ee6436360>"
      ]
     },
     "execution_count": 10,
     "metadata": {},
     "output_type": "execute_result"
    }
   ],
   "source": [
    "model.fit(train_images, train_labels, epochs=5, batch_size=128)"
   ]
  },
  {
   "cell_type": "code",
   "execution_count": 1,
   "id": "5cc48ac7-0cd6-4e97-9419-171f0f9abc67",
   "metadata": {},
   "outputs": [
    {
     "name": "stderr",
     "output_type": "stream",
     "text": [
      "WARNING:absl:Compiled the loaded model, but the compiled metrics have yet to be built. `model.compile_metrics` will be empty until you train or evaluate the model.\n"
     ]
    }
   ],
   "source": [
    "from tensorflow.keras.models import load_model\n",
    "model=load_model('numPred_model.h5')  # Save as HDF5 format\n"
   ]
  },
  {
   "cell_type": "code",
   "execution_count": 2,
   "id": "a6a6d070-c2a8-4a04-8152-6dc5df1852a4",
   "metadata": {},
   "outputs": [],
   "source": [
    "from tensorflow.keras.datasets import mnist\n",
    "(train_images, train_labels), (test_images, test_labels) = mnist.load_data()"
   ]
  },
  {
   "cell_type": "code",
   "execution_count": 3,
   "id": "5a0f8f01-8926-4a41-bd7b-fd1aa7475bd2",
   "metadata": {},
   "outputs": [
    {
     "name": "stdout",
     "output_type": "stream",
     "text": [
      "\u001b[1m1/1\u001b[0m \u001b[32m━━━━━━━━━━━━━━━━━━━━\u001b[0m\u001b[37m\u001b[0m \u001b[1m0s\u001b[0m 259ms/step\n",
      "Predicted probabilities for first image: [5.3910065e-07 4.3633690e-08 5.7002135e-06 3.5781640e-04 1.1451552e-10\n",
      " 1.6584760e-08 3.5126981e-11 9.9963474e-01 2.0981192e-07 8.3572229e-07]\n",
      "Predicted classes: [7 2 1 0 4 1 4 9 5 9]\n"
     ]
    }
   ],
   "source": [
    "import numpy as np\n",
    "test_digits = test_images[0:10]  # shape: (10, 28, 28)\n",
    "\n",
    "# Flatten the images to (10, 784)\n",
    "test_digits_flat = test_digits.reshape(10, 784).astype('float32') / 255.0\n",
    "\n",
    "# Predict\n",
    "predictions = model.predict(test_digits_flat)\n",
    "print(\"Predicted probabilities for first image:\", predictions[0])\n",
    "\n",
    "# Get predicted classes\n",
    "predicted_classes = np.argmax(predictions, axis=1)\n",
    "print(\"Predicted classes:\", predicted_classes)\n"
   ]
  },
  {
   "cell_type": "code",
   "execution_count": 4,
   "id": "08697d87-509c-4514-b592-15a0d276f5ae",
   "metadata": {},
   "outputs": [
    {
     "data": {
      "text/plain": [
       "1"
      ]
     },
     "execution_count": 4,
     "metadata": {},
     "output_type": "execute_result"
    }
   ],
   "source": [
    "predictions[2].argmax()"
   ]
  },
  {
   "cell_type": "code",
   "execution_count": 5,
   "id": "2948819d-3d8d-49ee-a8bc-e3b59e5bb8c3",
   "metadata": {},
   "outputs": [
    {
     "data": {
      "text/plain": [
       "(60000, 28, 28)"
      ]
     },
     "execution_count": 5,
     "metadata": {},
     "output_type": "execute_result"
    }
   ],
   "source": [
    "train_images.shape"
   ]
  },
  {
   "cell_type": "code",
   "execution_count": 6,
   "id": "7715b14e-1902-4b56-a00e-b05ce9515458",
   "metadata": {},
   "outputs": [
    {
     "data": {
      "image/png": "[encoded data removed]",
      "text/plain": [
       "<Figure size 640x480 with 1 Axes>"
      ]
     },
     "metadata": {},
     "output_type": "display_data"
    }
   ],
   "source": [
    "import numpy as np\n",
    "import matplotlib.pyplot as plt\n",
    "\n",
    "# Reshape all images\n",
    "images = train_images.reshape(60000, 28, 28)\n",
    "\n",
    "# Display the first image\n",
    "plt.imshow(images[4], cmap='gray')\n",
    "plt.title(\"First Training Image\")\n",
    "plt.axis('off')  # Hide axis\n",
    "plt.show()\n"
   ]
  },
  {
   "cell_type": "code",
   "execution_count": 7,
   "id": "cf70b433-e7d0-40d9-b8e7-7de1938a6a4e",
   "metadata": {},
   "outputs": [],
   "source": [
    "from keras.models import load_model\n",
    "from PIL import Image\n",
    "import numpy as np\n",
    "\n",
    "\n",
    "\n",
    "# Load external image\n",
    "img = Image.open('three.png').convert('L')  # Convert to grayscale\n",
    "\n",
    "# Resize to 28x28\n",
    "img = img.resize((28, 28))\n",
    "\n",
    "# Convert to numpy array\n",
    "img_array = np.array(img)\n",
    "\n",
    "# Invert colors if needed (MNIST is white digits on black)\n",
    "img_array = 255 - img_array  \n",
    "\n",
    "# Normalize to [0,1]\n",
    "img_array = img_array / 255.0\n",
    "\n",
    "# Flatten to (1, 784) for Dense model\n",
    "img_array = img_array.reshape(1, 784).astype('float32')\n"
   ]
  },
  {
   "cell_type": "code",
   "execution_count": 8,
   "id": "1cd5413a-959c-4f2b-9bc2-7bb426c8ccf1",
   "metadata": {},
   "outputs": [
    {
     "data": {
      "text/plain": [
       "(None, 784)"
      ]
     },
     "execution_count": 8,
     "metadata": {},
     "output_type": "execute_result"
    }
   ],
   "source": [
    "model.input_shape"
   ]
  },
  {
   "cell_type": "code",
   "execution_count": 9,
   "id": "75e8c1a7-bb06-4c67-91cc-c9398c546565",
   "metadata": {},
   "outputs": [
    {
     "name": "stdout",
     "output_type": "stream",
     "text": [
      "\u001b[1m1/1\u001b[0m \u001b[32m━━━━━━━━━━━━━━━━━━━━\u001b[0m\u001b[37m\u001b[0m \u001b[1m0s\u001b[0m 217ms/step\n",
      "Predicted Digit: 3\n"
     ]
    }
   ],
   "source": [
    "prediction = model.predict(img_array)\n",
    "predicted_class = np.argmax(prediction)\n",
    "\n",
    "print(f\"Predicted Digit: {predicted_class}\")\n"
   ]
  },
  {
   "cell_type": "code",
   "execution_count": 10,
   "id": "dfd4748e-5d94-46bc-b627-18b430c41dc1",
   "metadata": {},
   "outputs": [
    {
     "data": {
      "image/png": "[encoded data removed]",
      "text/plain": [
       "<Figure size 640x480 with 1 Axes>"
      ]
     },
     "metadata": {},
     "output_type": "display_data"
    }
   ],
   "source": [
    "import matplotlib.pyplot as plt\n",
    "\n",
    "plt.imshow(img, cmap='gray')\n",
    "plt.title(f\"Predicted: {predicted_class}\")\n",
    "plt.axis('off')\n",
    "plt.show()\n"
   ]
  },
  {
   "cell_type": "code",
   "execution_count": 11,
   "id": "2a3fc65b-d588-4e2d-b79f-3aeb691e6e59",
   "metadata": {},
   "outputs": [],
   "source": [
    "image_paths = ['one.png', 'two.png', 'three.png','six.png', 'seven.png','eig.png', 'nine.png']"
   ]
  },
  {
   "cell_type": "code",
   "execution_count": 12,
   "id": "d4342262-c159-4bec-8e7e-531c6a368cf1",
   "metadata": {},
   "outputs": [
    {
     "name": "stdout",
     "output_type": "stream",
     "text": [
      "Batch shape: (7, 784)\n"
     ]
    }
   ],
   "source": [
    "import numpy as np\n",
    "from PIL import Image\n",
    "\n",
    "def preprocess_image(img_path):\n",
    "    img = Image.open(img_path).convert('L')  # Grayscale\n",
    "    img = img.resize((28, 28))                # Resize to 28x28\n",
    "    img_array = np.array(img)\n",
    "    img_array = 255 - img_array               # Invert if needed\n",
    "    img_array = img_array / 255.0             # Normalize\n",
    "    img_array = img_array.reshape(784)        # Flatten to (784,)\n",
    "    return img_array\n",
    "\n",
    "# Preprocess all images\n",
    "images_batch = np.array([preprocess_image(path) for path in image_paths]).astype('float32')\n",
    "\n",
    "print(\"Batch shape:\", images_batch.shape)  # Should be (num_images, 784)\n"
   ]
  },
  {
   "cell_type": "code",
   "execution_count": 13,
   "id": "0fa26098-2554-4609-b23f-4293c74791d5",
   "metadata": {},
   "outputs": [
    {
     "name": "stdout",
     "output_type": "stream",
     "text": [
      "\u001b[1m1/1\u001b[0m \u001b[32m━━━━━━━━━━━━━━━━━━━━\u001b[0m\u001b[37m\u001b[0m \u001b[1m0s\u001b[0m 163ms/step\n",
      "Predicted Digits: [1 2 3 6 7 3 3]\n"
     ]
    }
   ],
   "source": [
    "predictions = model.predict(images_batch)\n",
    "predicted_classes = np.argmax(predictions, axis=1)\n",
    "\n",
    "print(\"Predicted Digits:\", predicted_classes)\n"
   ]
  },
  {
   "cell_type": "code",
   "execution_count": 9,
   "id": "e1f6dcfb-1f1a-4c84-8b2b-5dda252f1fe1",
   "metadata": {},
   "outputs": [
    {
     "name": "stderr",
     "output_type": "stream",
     "text": [
      "WARNING:absl:Compiled the loaded model, but the compiled metrics have yet to be built. `model.compile_metrics` will be empty until you train or evaluate the model.\n"
     ]
    },
    {
     "name": "stdout",
     "output_type": "stream",
     "text": [
      "Instructions:\n",
      "  ✏️ Draw a digit with left mouse button\n",
      "  🔄 Press 'c' to clear canvas\n",
      "  🔮 Press 'p' to predict digit\n",
      "  ❌ Press 'q' to quit\n",
      "\u001b[1m1/1\u001b[0m \u001b[32m━━━━━━━━━━━━━━━━━━━━\u001b[0m\u001b[37m\u001b[0m \u001b[1m0s\u001b[0m 178ms/step\n",
      "🎯 Predicted Digit: 4\n",
      "\u001b[1m1/1\u001b[0m \u001b[32m━━━━━━━━━━━━━━━━━━━━\u001b[0m\u001b[37m\u001b[0m \u001b[1m0s\u001b[0m 94ms/step\n",
      "🎯 Predicted Digit: 5\n",
      "\u001b[1m1/1\u001b[0m \u001b[32m━━━━━━━━━━━━━━━━━━━━\u001b[0m\u001b[37m\u001b[0m \u001b[1m0s\u001b[0m 128ms/step\n",
      "🎯 Predicted Digit: 6\n",
      "\u001b[1m1/1\u001b[0m \u001b[32m━━━━━━━━━━━━━━━━━━━━\u001b[0m\u001b[37m\u001b[0m \u001b[1m0s\u001b[0m 109ms/step\n",
      "🎯 Predicted Digit: 3\n",
      "\u001b[1m1/1\u001b[0m \u001b[32m━━━━━━━━━━━━━━━━━━━━\u001b[0m\u001b[37m\u001b[0m \u001b[1m0s\u001b[0m 169ms/step\n",
      "🎯 Predicted Digit: 3\n",
      "\u001b[1m1/1\u001b[0m \u001b[32m━━━━━━━━━━━━━━━━━━━━\u001b[0m\u001b[37m\u001b[0m \u001b[1m0s\u001b[0m 145ms/step\n",
      "🎯 Predicted Digit: 8\n",
      "\u001b[1m1/1\u001b[0m \u001b[32m━━━━━━━━━━━━━━━━━━━━\u001b[0m\u001b[37m\u001b[0m \u001b[1m0s\u001b[0m 138ms/step\n",
      "🎯 Predicted Digit: 7\n",
      "\u001b[1m1/1\u001b[0m \u001b[32m━━━━━━━━━━━━━━━━━━━━\u001b[0m\u001b[37m\u001b[0m \u001b[1m0s\u001b[0m 151ms/step\n",
      "🎯 Predicted Digit: 8\n",
      "\u001b[1m1/1\u001b[0m \u001b[32m━━━━━━━━━━━━━━━━━━━━\u001b[0m\u001b[37m\u001b[0m \u001b[1m0s\u001b[0m 115ms/step\n",
      "🎯 Predicted Digit: 7\n",
      "\u001b[1m1/1\u001b[0m \u001b[32m━━━━━━━━━━━━━━━━━━━━\u001b[0m\u001b[37m\u001b[0m \u001b[1m0s\u001b[0m 116ms/step\n",
      "🎯 Predicted Digit: 8\n",
      "\u001b[1m1/1\u001b[0m \u001b[32m━━━━━━━━━━━━━━━━━━━━\u001b[0m\u001b[37m\u001b[0m \u001b[1m0s\u001b[0m 129ms/step\n",
      "🎯 Predicted Digit: 3\n"
     ]
    }
   ],
   "source": [
    "import cv2\n",
    "import numpy as np\n",
    "from tensorflow.keras.models import load_model\n",
    "\n",
    "# ------------------------------\n",
    "# 1. Load your trained MLP model\n",
    "# ------------------------------\n",
    "model = load_model(\"numPred_model.h5\")  # اپنا ماڈل یہاں دیں\n",
    "\n",
    "# ------------------------------\n",
    "# 2. Create a blank white canvas\n",
    "# ------------------------------\n",
    "canvas = np.ones((400, 400), dtype=np.uint8) * 255\n",
    "drawing = False\n",
    "\n",
    "# ------------------------------\n",
    "# 3. Mouse callback for drawing\n",
    "# ------------------------------\n",
    "def draw(event, x, y, flags, param):\n",
    "    global drawing\n",
    "    if event == cv2.EVENT_LBUTTONDOWN:\n",
    "        drawing = True\n",
    "    elif event == cv2.EVENT_MOUSEMOVE and drawing:\n",
    "        cv2.circle(canvas, (x, y), 12, (0), -1)  # تھوڑی موٹی لائن\n",
    "    elif event == cv2.EVENT_LBUTTONUP:\n",
    "        drawing = False\n",
    "\n",
    "# ------------------------------\n",
    "# 4. Preprocessing Function\n",
    "# ------------------------------\n",
    "def preprocess_for_mlp(img):\n",
    "    # Step 1: Invert colors (digit white, background black)\n",
    "    img = 255 - img\n",
    "\n",
    "    # Step 2: Find bounding box of the digit\n",
    "    coords = cv2.findNonZero(img)\n",
    "    if coords is not None:\n",
    "        x, y, w, h = cv2.boundingRect(coords)\n",
    "        digit = img[y:y+h, x:x+w]\n",
    "    else:\n",
    "        digit = img  # اگر کچھ نہ لکھا ہو تو original ہی لیں\n",
    "\n",
    "    # Step 3: Resize digit to 20x20 (MNIST style)\n",
    "    digit = cv2.resize(digit, (20, 20), interpolation=cv2.INTER_AREA)\n",
    "\n",
    "    # Step 4: Center digit on 28x28 black canvas\n",
    "    final_img = np.zeros((28, 28), dtype=np.uint8)\n",
    "    start_x = (28 - 20) // 2\n",
    "    start_y = (28 - 20) // 2\n",
    "    final_img[start_y:start_y+20, start_x:start_x+20] = digit\n",
    "\n",
    "    # Step 5: Normalize & Flatten for MLP\n",
    "    final_img = final_img.astype('float32') / 255.0\n",
    "    final_img = final_img.reshape(1, 784)\n",
    "\n",
    "    return final_img\n",
    "\n",
    "# ------------------------------\n",
    "# 5. OpenCV Drawing Window\n",
    "# ------------------------------\n",
    "cv2.namedWindow(\"Draw Digit\")\n",
    "cv2.setMouseCallback(\"Draw Digit\", draw)\n",
    "\n",
    "print(\"Instructions:\")\n",
    "print(\"  ✏️ Draw a digit with left mouse button\")\n",
    "print(\"  🔄 Press 'c' to clear canvas\")\n",
    "print(\"  🔮 Press 'p' to predict digit\")\n",
    "print(\"  ❌ Press 'q' to quit\")\n",
    "\n",
    "while True:\n",
    "    cv2.imshow(\"Draw Digit\", canvas)\n",
    "    key = cv2.waitKey(1) & 0xFF\n",
    "\n",
    "    # Predict on 'p'\n",
    "    if key == ord('p'):\n",
    "        processed_img = preprocess_for_mlp(canvas)\n",
    "        prediction = model.predict(processed_img)\n",
    "        predicted_class = np.argmax(prediction)\n",
    "        print(\"🎯 Predicted Digit:\", predicted_class)\n",
    "\n",
    "    # Clear on 'c'\n",
    "    elif key == ord('c'):\n",
    "        canvas[:] = 255\n",
    "\n",
    "    # Quit on 'q'\n",
    "    elif key == ord('q'):\n",
    "        break\n",
    "\n",
    "cv2.destroyAllWindows()\n"
   ]
  },
  {
   "cell_type": "code",
   "execution_count": null,
   "id": "b805f4ba-59ba-46e5-9aa1-f7b6ddb001f6",
   "metadata": {},
   "outputs": [],
   "source": []
  },
  {
   "cell_type": "code",
   "execution_count": null,
   "id": "192de79d-bb38-4f96-ad57-d34558df9875",
   "metadata": {},
   "outputs": [],
   "source": []
  }
 ],
 "metadata": {
  "kernelspec": {
   "display_name": "Python 3 (ipykernel)",
   "language": "python",
   "name": "python3"
  },
  "language_info": {
   "codemirror_mode": {
    "name": "ipython",
    "version": 3
   },
   "file_extension": ".py",
   "mimetype": "text/x-python",
   "name": "python",
   "nbconvert_exporter": "python",
   "pygments_lexer": "ipython3",
   "version": "3.12.7"
  }
 },
 "nbformat": 4,
 "nbformat_minor": 5
}
